{
 "cells": [
  {
   "cell_type": "code",
   "execution_count": 12,
   "metadata": {},
   "outputs": [],
   "source": [
    "import pandas as ps\n",
    "import numpy as np\n",
    "from sklearn.tree import DecisionTreeClassifier"
   ]
  },
  {
   "cell_type": "code",
   "execution_count": 13,
   "metadata": {},
   "outputs": [],
   "source": [
    "data = ps.read_csv('C:\\\\Users\\\\p.kovalenko\\\\Documents\\\\Learning\\\\titanic.csv', index_col='PassengerId')"
   ]
  },
  {
   "cell_type": "code",
   "execution_count": 14,
   "metadata": {},
   "outputs": [
    {
     "name": "stdout",
     "output_type": "stream",
     "text": [
      "             Pclass      Fare   Age  Sex\n",
      "PassengerId                             \n",
      "1                 3    7.2500  22.0    1\n",
      "2                 1   71.2833  38.0    0\n",
      "3                 3    7.9250  26.0    0\n",
      "4                 1   53.1000  35.0    0\n",
      "5                 3    8.0500  35.0    1\n",
      "7                 1   51.8625  54.0    1\n",
      "8                 3   21.0750   2.0    1\n",
      "9                 3   11.1333  27.0    0\n",
      "10                2   30.0708  14.0    0\n",
      "11                3   16.7000   4.0    0\n",
      "12                1   26.5500  58.0    0\n",
      "13                3    8.0500  20.0    1\n",
      "14                3   31.2750  39.0    1\n",
      "15                3    7.8542  14.0    0\n",
      "16                2   16.0000  55.0    0\n",
      "17                3   29.1250   2.0    1\n",
      "19                3   18.0000  31.0    0\n",
      "21                2   26.0000  35.0    1\n",
      "22                2   13.0000  34.0    1\n",
      "23                3    8.0292  15.0    0\n",
      "24                1   35.5000  28.0    1\n",
      "25                3   21.0750   8.0    0\n",
      "26                3   31.3875  38.0    0\n",
      "28                1  263.0000  19.0    1\n",
      "31                1   27.7208  40.0    1\n",
      "34                2   10.5000  66.0    1\n",
      "35                1   82.1708  28.0    1\n",
      "36                1   52.0000  42.0    1\n",
      "38                3    8.0500  21.0    1\n",
      "39                3   18.0000  18.0    0\n",
      "...             ...       ...   ...  ...\n",
      "857               1  164.8667  45.0    0\n",
      "858               1   26.5500  51.0    1\n",
      "859               3   19.2583  24.0    0\n",
      "861               3   14.1083  41.0    1\n",
      "862               2   11.5000  21.0    1\n",
      "863               1   25.9292  48.0    0\n",
      "865               2   13.0000  24.0    1\n",
      "866               2   13.0000  42.0    0\n",
      "867               2   13.8583  27.0    0\n",
      "868               1   50.4958  31.0    1\n",
      "870               3   11.1333   4.0    1\n",
      "871               3    7.8958  26.0    1\n",
      "872               1   52.5542  47.0    0\n",
      "873               1    5.0000  33.0    1\n",
      "874               3    9.0000  47.0    1\n",
      "875               2   24.0000  28.0    0\n",
      "876               3    7.2250  15.0    0\n",
      "877               3    9.8458  20.0    1\n",
      "878               3    7.8958  19.0    1\n",
      "880               1   83.1583  56.0    0\n",
      "881               2   26.0000  25.0    0\n",
      "882               3    7.8958  33.0    1\n",
      "883               3   10.5167  22.0    0\n",
      "884               2   10.5000  28.0    1\n",
      "885               3    7.0500  25.0    1\n",
      "886               3   29.1250  39.0    0\n",
      "887               2   13.0000  27.0    1\n",
      "888               1   30.0000  19.0    0\n",
      "890               1   30.0000  26.0    1\n",
      "891               3    7.7500  32.0    1\n",
      "\n",
      "[714 rows x 4 columns]\n",
      "             Survived\n",
      "PassengerId          \n",
      "1                   0\n",
      "2                   1\n",
      "3                   1\n",
      "4                   1\n",
      "5                   0\n",
      "7                   0\n",
      "8                   0\n",
      "9                   1\n",
      "10                  1\n",
      "11                  1\n",
      "12                  1\n",
      "13                  0\n",
      "14                  0\n",
      "15                  0\n",
      "16                  1\n",
      "17                  0\n",
      "19                  0\n",
      "21                  0\n",
      "22                  1\n",
      "23                  1\n",
      "24                  1\n",
      "25                  0\n",
      "26                  1\n",
      "28                  0\n",
      "31                  0\n",
      "34                  0\n",
      "35                  0\n",
      "36                  0\n",
      "38                  0\n",
      "39                  0\n",
      "...               ...\n",
      "857                 1\n",
      "858                 1\n",
      "859                 1\n",
      "861                 0\n",
      "862                 0\n",
      "863                 1\n",
      "865                 0\n",
      "866                 1\n",
      "867                 1\n",
      "868                 0\n",
      "870                 1\n",
      "871                 0\n",
      "872                 1\n",
      "873                 0\n",
      "874                 0\n",
      "875                 1\n",
      "876                 1\n",
      "877                 0\n",
      "878                 0\n",
      "880                 1\n",
      "881                 1\n",
      "882                 0\n",
      "883                 0\n",
      "884                 0\n",
      "885                 0\n",
      "886                 0\n",
      "887                 0\n",
      "888                 1\n",
      "890                 1\n",
      "891                 0\n",
      "\n",
      "[714 rows x 1 columns]\n"
     ]
    },
    {
     "name": "stderr",
     "output_type": "stream",
     "text": [
      "C:\\Users\\p.kovalenko\\AppData\\Local\\Continuum\\anaconda3\\lib\\site-packages\\pandas\\core\\indexing.py:543: SettingWithCopyWarning: \n",
      "A value is trying to be set on a copy of a slice from a DataFrame.\n",
      "Try using .loc[row_indexer,col_indexer] = value instead\n",
      "\n",
      "See the caveats in the documentation: http://pandas.pydata.org/pandas-docs/stable/indexing.html#indexing-view-versus-copy\n",
      "  self.obj[item] = s\n"
     ]
    }
   ],
   "source": [
    "#Выделяем нужные нам переменные, и удаляем нули\n",
    "#Затем формируем матрицу признаков и столбец классов\n",
    "data_sorted = data[['Pclass', 'Fare', 'Age', 'Sex', 'Survived']].dropna()\n",
    "variable_matrix = data_sorted[['Pclass', 'Fare', 'Age', 'Sex']]\n",
    "aim_column = data_sorted[['Survived']]\n",
    "#Преобразуем строковое поле в числа\n",
    "variable_matrix.loc[variable_matrix['Sex'] != 'male', 'Sex'] = 0\n",
    "variable_matrix.loc[variable_matrix['Sex'] == 'male', 'Sex'] = 1\n",
    "print(variable_matrix)\n",
    "print(aim_column)"
   ]
  },
  {
   "cell_type": "code",
   "execution_count": 15,
   "metadata": {},
   "outputs": [
    {
     "name": "stdout",
     "output_type": "stream",
     "text": [
      "[0.14000522 0.30343647 0.2560461  0.30051221]\n"
     ]
    }
   ],
   "source": [
    "classifier = DecisionTreeClassifier(random_state = 241)\n",
    "classifier.fit(variable_matrix, aim_column)\n",
    "importances = classifier.feature_importances_\n",
    "print(importances)"
   ]
  },
  {
   "cell_type": "code",
   "execution_count": null,
   "metadata": {},
   "outputs": [],
   "source": []
  }
 ],
 "metadata": {
  "kernelspec": {
   "display_name": "Python 3",
   "language": "python",
   "name": "python3"
  },
  "language_info": {
   "codemirror_mode": {
    "name": "ipython",
    "version": 3
   },
   "file_extension": ".py",
   "mimetype": "text/x-python",
   "name": "python",
   "nbconvert_exporter": "python",
   "pygments_lexer": "ipython3",
   "version": "3.7.3"
  }
 },
 "nbformat": 4,
 "nbformat_minor": 2
}
