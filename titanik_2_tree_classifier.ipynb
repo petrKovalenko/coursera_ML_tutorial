{
 "cells": [
  {
   "cell_type": "code",
   "execution_count": 2,
   "metadata": {},
   "outputs": [],
   "source": [
    "import pandas as ps\n",
    "import numpy as np\n",
    "from sklearn.tree import DecisionTreeClassifier"
   ]
  },
  {
   "cell_type": "code",
   "execution_count": 3,
   "metadata": {},
   "outputs": [],
   "source": [
    "data = ps.read_csv('C:\\\\Users\\\\p.kovalenko\\\\Documents\\\\Learning\\\\titanic.csv', index_col='PassengerId')"
   ]
  },
  {
   "cell_type": "code",
   "execution_count": 7,
   "metadata": {},
   "outputs": [
    {
     "name": "stdout",
     "output_type": "stream",
     "text": [
      "             Pclass      Fare   Age  Sex  Survived\n",
      "PassengerId                                       \n",
      "1                 3    7.2500  22.0    1         0\n",
      "2                 1   71.2833  38.0    0         1\n",
      "3                 3    7.9250  26.0    0         1\n",
      "4                 1   53.1000  35.0    0         1\n",
      "5                 3    8.0500  35.0    1         0\n",
      "6                 3    8.4583   NaN    1         0\n",
      "7                 1   51.8625  54.0    1         0\n",
      "8                 3   21.0750   2.0    1         0\n",
      "9                 3   11.1333  27.0    0         1\n",
      "10                2   30.0708  14.0    0         1\n",
      "11                3   16.7000   4.0    0         1\n",
      "12                1   26.5500  58.0    0         1\n",
      "13                3    8.0500  20.0    1         0\n",
      "14                3   31.2750  39.0    1         0\n",
      "15                3    7.8542  14.0    0         0\n",
      "16                2   16.0000  55.0    0         1\n",
      "17                3   29.1250   2.0    1         0\n",
      "18                2   13.0000   NaN    1         1\n",
      "19                3   18.0000  31.0    0         0\n",
      "20                3    7.2250   NaN    0         1\n",
      "21                2   26.0000  35.0    1         0\n",
      "22                2   13.0000  34.0    1         1\n",
      "23                3    8.0292  15.0    0         1\n",
      "24                1   35.5000  28.0    1         1\n",
      "25                3   21.0750   8.0    0         0\n",
      "26                3   31.3875  38.0    0         1\n",
      "27                3    7.2250   NaN    1         0\n",
      "28                1  263.0000  19.0    1         0\n",
      "29                3    7.8792   NaN    0         1\n",
      "30                3    7.8958   NaN    1         0\n",
      "...             ...       ...   ...  ...       ...\n",
      "862               2   11.5000  21.0    1         0\n",
      "863               1   25.9292  48.0    0         1\n",
      "864               3   69.5500   NaN    0         0\n",
      "865               2   13.0000  24.0    1         0\n",
      "866               2   13.0000  42.0    0         1\n",
      "867               2   13.8583  27.0    0         1\n",
      "868               1   50.4958  31.0    1         0\n",
      "869               3    9.5000   NaN    1         0\n",
      "870               3   11.1333   4.0    1         1\n",
      "871               3    7.8958  26.0    1         0\n",
      "872               1   52.5542  47.0    0         1\n",
      "873               1    5.0000  33.0    1         0\n",
      "874               3    9.0000  47.0    1         0\n",
      "875               2   24.0000  28.0    0         1\n",
      "876               3    7.2250  15.0    0         1\n",
      "877               3    9.8458  20.0    1         0\n",
      "878               3    7.8958  19.0    1         0\n",
      "879               3    7.8958   NaN    1         0\n",
      "880               1   83.1583  56.0    0         1\n",
      "881               2   26.0000  25.0    0         1\n",
      "882               3    7.8958  33.0    1         0\n",
      "883               3   10.5167  22.0    0         0\n",
      "884               2   10.5000  28.0    1         0\n",
      "885               3    7.0500  25.0    1         0\n",
      "886               3   29.1250  39.0    0         0\n",
      "887               2   13.0000  27.0    1         0\n",
      "888               1   30.0000  19.0    0         1\n",
      "889               3   23.4500   NaN    0         0\n",
      "890               1   30.0000  26.0    1         1\n",
      "891               3    7.7500  32.0    1         0\n",
      "\n",
      "[891 rows x 5 columns]\n"
     ]
    }
   ],
   "source": [
    "data_sorted = data[['Pclass', 'Fare', 'Age', 'Sex', 'Survived']]\n",
    "data_sorted.loc[data_sorted['Sex'] != 'male', 'Sex'] = 0\n",
    "data_sorted.loc[data_sorted['Sex'] == 'male', 'Sex'] = 1\n",
    "print(data_sorted)"
   ]
  },
  {
   "cell_type": "code",
   "execution_count": null,
   "metadata": {},
   "outputs": [],
   "source": []
  }
 ],
 "metadata": {
  "kernelspec": {
   "display_name": "Python 3",
   "language": "python",
   "name": "python3"
  },
  "language_info": {
   "codemirror_mode": {
    "name": "ipython",
    "version": 3
   },
   "file_extension": ".py",
   "mimetype": "text/x-python",
   "name": "python",
   "nbconvert_exporter": "python",
   "pygments_lexer": "ipython3",
   "version": "3.7.3"
  }
 },
 "nbformat": 4,
 "nbformat_minor": 2
}
