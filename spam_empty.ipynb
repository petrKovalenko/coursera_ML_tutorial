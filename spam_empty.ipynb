{
 "cells": [
  {
   "cell_type": "markdown",
   "metadata": {},
   "source": [
    "pA = 0\n",
    "pNotA = 0\n",
    "SPAM = 1\n",
    "NOT_SPAM = 0\n",
    "trainPositive, trainNegative = {}, {}\n",
    "positive_total, negative_total = 0, 0"
   ]
  },
  {
   "cell_type": "code",
   "execution_count": 9,
   "metadata": {},
   "outputs": [],
   "source": [
    "train_data = [\n",
    "    ['пора валить из страны', SPAM],\n",
    "    ['давай дружить', NOT_SPAM],\n",
    "    ['когда вы обновите телефон', SPAM],\n",
    "    ['сколько тебе лет', NOT_SPAM],\n",
    "    ['страны для отдыха', SPAM],\n",
    "    ['отдых в Тайланде', SPAM],\n",
    "    ['поехали на отдых в Тайланде', NOT_SPAM],\n",
    "    ['страна обновить давай', SPAM]\n",
    "]"
   ]
  },
  {
   "cell_type": "code",
   "execution_count": 14,
   "metadata": {},
   "outputs": [],
   "source": [
    "def train(train_data):\n",
    "    # Посчитайте pA и pNotA \n",
    "    # Посчитайте частоты каждого слова с помощью calculate_word_frequencies()\n",
    "    global pA, pNotA\n",
    "    # Здесь ваш код\n",
    "    num_spam = 0\n",
    "    for data_item in train_data:\n",
    "        calculate_word_frequencies(data_item[0], data_item[1])\n",
    "        if data_item[1] == SPAM:\n",
    "            num_spam = num_spam + 1\n",
    "    pA = num_spam / len(train_data)\n",
    "    pNotA = 1 - pA\n",
    "\n",
    "def calculate_word_frequencies(body, label):\n",
    "    global trainPositive, trainNegative, positive_total, negative_total\n",
    "    for word in body.lower().split():\n",
    "        if label == SPAM:\n",
    "            trainPositive[word] = trainPositive.get(word, 0) + 1\n",
    "            positive_total += 1\n",
    "        else:\n",
    "            trainNegative[word] = trainNegative.get(word, 0) + 1\n",
    "            negative_total += 1 "
   ]
  },
  {
   "cell_type": "code",
   "execution_count": 5,
   "metadata": {},
   "outputs": [],
   "source": [
    "def calculate_P_Bi_A(word, label):\n",
    "    # P(Bi|A) - вероятность встретить слово\n",
    "    # Уже посчитано\n",
    "    if label == SPAM:\n",
    "        return (trainPositive.get(word, 0) + 1) / positive_total\n",
    "    else:\n",
    "        return (trainNegative.get(word, 0) + 1) / negative_total\n",
    "\n",
    "def calculate_P_B_A(text, label):\n",
    "    # P(B|A) - вероятность встретить текст\n",
    "    # Надо посчитать по формуле из презентации\n",
    "    total_prob = 1\n",
    "    for word in text.lower().split():\n",
    "        total_prob = total_prob * calculate_P_Bi_A(word, label)\n",
    "    return total_prob\n",
    "    "
   ]
  },
  {
   "cell_type": "code",
   "execution_count": 6,
   "metadata": {},
   "outputs": [],
   "source": [
    "def classify(email):\n",
    "    # Надо посчитать вероятности по формуле из презентации\n",
    "    # И сравнить их друг с другом\n",
    "    # Ответ: True, если спам. False, если не спам\n",
    "    return calculate_P_B_A(email, SPAM)*pA > alculate_P_B_A(email, NOT_SPAM)*pNotA"
   ]
  },
  {
   "cell_type": "code",
   "execution_count": 7,
   "metadata": {},
   "outputs": [],
   "source": [
    "train(train_data)"
   ]
  },
  {
   "cell_type": "code",
   "execution_count": 13,
   "metadata": {
    "scrolled": true
   },
   "outputs": [
    {
     "data": {
      "text/plain": [
       "False"
      ]
     },
     "execution_count": 13,
     "metadata": {},
     "output_type": "execute_result"
    }
   ],
   "source": [
    "classify('телефон')"
   ]
  },
  {
   "cell_type": "markdown",
   "metadata": {},
   "source": [
    "---"
   ]
  }
 ],
 "metadata": {
  "kernelspec": {
   "display_name": "Python 3",
   "language": "python",
   "name": "python3"
  },
  "language_info": {
   "codemirror_mode": {
    "name": "ipython",
    "version": 3
   },
   "file_extension": ".py",
   "mimetype": "text/x-python",
   "name": "python",
   "nbconvert_exporter": "python",
   "pygments_lexer": "ipython3",
   "version": "3.7.3"
  }
 },
 "nbformat": 4,
 "nbformat_minor": 2
}
